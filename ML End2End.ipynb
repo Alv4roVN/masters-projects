{
 "cells": [
  {
   "cell_type": "markdown",
   "metadata": {
    "deletable": false,
    "editable": false,
    "nbgrader": {
     "cell_type": "markdown",
     "checksum": "0680002d0b8665fd6275b9c4b1d5d32a",
     "grade": false,
     "grade_id": "cell-cda383df8cb6d4c8",
     "locked": true,
     "schema_version": 3,
     "solution": false,
     "task": false
    }
   },
   "source": [
    "Estos ejercicios pretenden poner en práctica la habilidad para crear un modelo sencillo pero completo _end2end_ con la librería __sklearn__ mediante el uso de transformadores _ad hoc_, una batería de algoritmos y un tuneado de parámetros.\n",
    "\n",
    "Las celdas de control están para asegurar que el código se ha ejecutado tal como se ejecutó en mi máquina."
   ]
  },
  {
   "cell_type": "markdown",
   "metadata": {
    "deletable": false,
    "editable": false,
    "nbgrader": {
     "cell_type": "markdown",
     "checksum": "7a57bf22ccfb8664bc9bf8892c302a19",
     "grade": false,
     "grade_id": "cell-92c0068a2d864a37",
     "locked": true,
     "schema_version": 3,
     "solution": false,
     "task": false
    }
   },
   "source": [
    "## Parte 0: Inicialización\n",
    "\n",
    "En esta parte, simplemente cargamos las librerías que vamos a utilizar y establecemos una semilla para controlar la reproducibilidad del ejercicio."
   ]
  },
  {
   "cell_type": "code",
   "execution_count": 1,
   "metadata": {
    "deletable": false,
    "editable": false,
    "nbgrader": {
     "cell_type": "code",
     "checksum": "998600b7ba0691e25289db7b46e73f3b",
     "grade": false,
     "grade_id": "cell-2b31a8dd6b3e3a96",
     "locked": true,
     "schema_version": 3,
     "solution": false,
     "task": false
    }
   },
   "outputs": [
    {
     "name": "stderr",
     "output_type": "stream",
     "text": [
      "C:\\Users\\alvar\\AppData\\Local\\Temp\\ipykernel_20548\\3137747518.py:3: DeprecationWarning: \n",
      "Pyarrow will become a required dependency of pandas in the next major release of pandas (pandas 3.0),\n",
      "(to allow more performant data types, such as the Arrow string type, and better interoperability with other libraries)\n",
      "but was not found to be installed on your system.\n",
      "If this would cause problems for you,\n",
      "please provide us feedback at https://github.com/pandas-dev/pandas/issues/54466\n",
      "        \n",
      "  import pandas as pd\n"
     ]
    }
   ],
   "source": [
    "\"\"\" Librerías \"\"\"\n",
    "\n",
    "import pandas as pd\n",
    "import numpy as np\n",
    "import matplotlib\n",
    "import matplotlib.pyplot as plt\n",
    "import seaborn as sns\n",
    "import warnings\n",
    "import sys\n",
    "\n",
    "sns.set_style('darkgrid')\n",
    "np.set_printoptions(precision=2)\n",
    "warnings.filterwarnings(\"ignore\")\n",
    "\n",
    "import sklearn\n",
    "from sklearn.preprocessing import MinMaxScaler, StandardScaler, Normalizer, Binarizer, RobustScaler\n",
    "from sklearn.compose import ColumnTransformer\n",
    "from sklearn.preprocessing import OneHotEncoder, LabelEncoder, PowerTransformer\n",
    "from sklearn.impute import SimpleImputer, KNNImputer\n",
    "\n",
    "from sklearn.feature_selection import SelectKBest, chi2, RFE\n",
    "from sklearn.model_selection import train_test_split\n",
    "from sklearn.pipeline import make_pipeline, Pipeline\n",
    "from sklearn.decomposition import PCA\n",
    "\n",
    "from sklearn.linear_model import LogisticRegression\n",
    "from sklearn.tree import DecisionTreeClassifier\n",
    "from sklearn.neighbors import KNeighborsClassifier\n",
    "from sklearn.discriminant_analysis import LinearDiscriminantAnalysis\n",
    "from sklearn.naive_bayes import GaussianNB\n",
    "from sklearn.ensemble import RandomForestClassifier, ExtraTreesClassifier\n",
    "from sklearn.svm import SVC\n",
    "\n",
    "from sklearn.metrics import accuracy_score, confusion_matrix, classification_report, f1_score\n",
    "\n",
    "from sklearn.model_selection import KFold, ShuffleSplit, LeaveOneOut, StratifiedKFold\n",
    "from sklearn.model_selection import cross_val_score, cross_val_predict\n",
    "from sklearn.model_selection import GridSearchCV, RandomizedSearchCV\n",
    "\n",
    "\"\"\" Semilla \"\"\"\n",
    "\n",
    "seed = 99"
   ]
  },
  {
   "cell_type": "markdown",
   "metadata": {
    "deletable": false,
    "editable": false,
    "nbgrader": {
     "cell_type": "markdown",
     "checksum": "59b26ffa8ae2225321435276dc9960b6",
     "grade": false,
     "grade_id": "cell-5caddb1cf9987481",
     "locked": true,
     "schema_version": 3,
     "solution": false,
     "task": false
    },
    "tags": []
   },
   "source": [
    "Comprobamos que tenemos el entorno virtual correctamente creado en la siguiente celda. Si fallase alguno de los *asserts*, significaría que no tenemos la versión correcta:"
   ]
  },
  {
   "cell_type": "code",
   "execution_count": 2,
   "metadata": {
    "deletable": false,
    "editable": false,
    "nbgrader": {
     "cell_type": "code",
     "checksum": "77b0f9b3e45ede2d1bedda65c00482e8",
     "grade": false,
     "grade_id": "cell-47005dd7124d3ce0",
     "locked": true,
     "schema_version": 3,
     "solution": false,
     "task": false
    },
    "tags": []
   },
   "outputs": [],
   "source": [
    "assert sys.version[0:4] == '3.10'\n",
    "assert sklearn.__version__ == '1.3.2'\n",
    "assert matplotlib.__version__ == '3.8.3'\n",
    "assert sns.__version__ == '0.13.2'\n",
    "assert pd.__version__ == '2.2.0'\n",
    "assert np.__version__ == '1.26.4'"
   ]
  },
  {
   "cell_type": "markdown",
   "metadata": {
    "deletable": false,
    "editable": false,
    "nbgrader": {
     "cell_type": "markdown",
     "checksum": "4d0f05c93c1ba07f3241bcfbea919823",
     "grade": false,
     "grade_id": "cell-10be221aff2f7589",
     "locked": true,
     "schema_version": 3,
     "solution": false,
     "task": false
    }
   },
   "source": [
    "## Parte 1: Lectura y transformación de datos\n",
    "\n",
    "En esta parte, principalmente, cargaremos los datos de un repositorio git y realizaremos una breve limpieza de los datos para conseguir un dataframe listo."
   ]
  },
  {
   "cell_type": "code",
   "execution_count": 3,
   "metadata": {
    "deletable": false,
    "editable": false,
    "nbgrader": {
     "cell_type": "code",
     "checksum": "f8010f8333f18ae92399db26b06ce2df",
     "grade": false,
     "grade_id": "cell-be098d50c51cc25e",
     "locked": true,
     "schema_version": 3,
     "solution": false,
     "task": false
    }
   },
   "outputs": [
    {
     "name": "stdout",
     "output_type": "stream",
     "text": [
      "Número de filas: 891, Número de columnas:13\n"
     ]
    },
    {
     "data": {
      "text/html": [
       "<div>\n",
       "<style scoped>\n",
       "    .dataframe tbody tr th:only-of-type {\n",
       "        vertical-align: middle;\n",
       "    }\n",
       "\n",
       "    .dataframe tbody tr th {\n",
       "        vertical-align: top;\n",
       "    }\n",
       "\n",
       "    .dataframe thead th {\n",
       "        text-align: right;\n",
       "    }\n",
       "</style>\n",
       "<table border=\"1\" class=\"dataframe\">\n",
       "  <thead>\n",
       "    <tr style=\"text-align: right;\">\n",
       "      <th></th>\n",
       "      <th>PassengerId</th>\n",
       "      <th>Survived</th>\n",
       "      <th>Pclass</th>\n",
       "      <th>Name</th>\n",
       "      <th>Sex</th>\n",
       "      <th>Age</th>\n",
       "      <th>SibSp</th>\n",
       "      <th>Parch</th>\n",
       "      <th>Ticket</th>\n",
       "      <th>Fare</th>\n",
       "      <th>Cabin</th>\n",
       "      <th>Embarked</th>\n",
       "      <th>Title</th>\n",
       "    </tr>\n",
       "  </thead>\n",
       "  <tbody>\n",
       "    <tr>\n",
       "      <th>0</th>\n",
       "      <td>1</td>\n",
       "      <td>0</td>\n",
       "      <td>3</td>\n",
       "      <td>Braund, Mr. Owen Harris</td>\n",
       "      <td>male</td>\n",
       "      <td>22.0</td>\n",
       "      <td>1</td>\n",
       "      <td>0</td>\n",
       "      <td>A/5 21171</td>\n",
       "      <td>7.2500</td>\n",
       "      <td>NaN</td>\n",
       "      <td>S</td>\n",
       "      <td>Mr</td>\n",
       "    </tr>\n",
       "    <tr>\n",
       "      <th>1</th>\n",
       "      <td>2</td>\n",
       "      <td>1</td>\n",
       "      <td>1</td>\n",
       "      <td>Cumings, Mrs. John Bradley (Florence Briggs Th...</td>\n",
       "      <td>female</td>\n",
       "      <td>38.0</td>\n",
       "      <td>1</td>\n",
       "      <td>0</td>\n",
       "      <td>PC 17599</td>\n",
       "      <td>71.2833</td>\n",
       "      <td>C85</td>\n",
       "      <td>C</td>\n",
       "      <td>Mrs</td>\n",
       "    </tr>\n",
       "    <tr>\n",
       "      <th>2</th>\n",
       "      <td>3</td>\n",
       "      <td>1</td>\n",
       "      <td>3</td>\n",
       "      <td>Heikkinen, Miss. Laina</td>\n",
       "      <td>female</td>\n",
       "      <td>26.0</td>\n",
       "      <td>0</td>\n",
       "      <td>0</td>\n",
       "      <td>STON/O2. 3101282</td>\n",
       "      <td>7.9250</td>\n",
       "      <td>NaN</td>\n",
       "      <td>S</td>\n",
       "      <td>Miss</td>\n",
       "    </tr>\n",
       "    <tr>\n",
       "      <th>3</th>\n",
       "      <td>4</td>\n",
       "      <td>1</td>\n",
       "      <td>1</td>\n",
       "      <td>Futrelle, Mrs. Jacques Heath (Lily May Peel)</td>\n",
       "      <td>female</td>\n",
       "      <td>35.0</td>\n",
       "      <td>1</td>\n",
       "      <td>0</td>\n",
       "      <td>113803</td>\n",
       "      <td>53.1000</td>\n",
       "      <td>C123</td>\n",
       "      <td>S</td>\n",
       "      <td>Mrs</td>\n",
       "    </tr>\n",
       "    <tr>\n",
       "      <th>4</th>\n",
       "      <td>5</td>\n",
       "      <td>0</td>\n",
       "      <td>3</td>\n",
       "      <td>Allen, Mr. William Henry</td>\n",
       "      <td>male</td>\n",
       "      <td>35.0</td>\n",
       "      <td>0</td>\n",
       "      <td>0</td>\n",
       "      <td>373450</td>\n",
       "      <td>8.0500</td>\n",
       "      <td>NaN</td>\n",
       "      <td>S</td>\n",
       "      <td>Mr</td>\n",
       "    </tr>\n",
       "  </tbody>\n",
       "</table>\n",
       "</div>"
      ],
      "text/plain": [
       "   PassengerId  Survived  Pclass  \\\n",
       "0            1         0       3   \n",
       "1            2         1       1   \n",
       "2            3         1       3   \n",
       "3            4         1       1   \n",
       "4            5         0       3   \n",
       "\n",
       "                                                Name     Sex   Age  SibSp  \\\n",
       "0                            Braund, Mr. Owen Harris    male  22.0      1   \n",
       "1  Cumings, Mrs. John Bradley (Florence Briggs Th...  female  38.0      1   \n",
       "2                             Heikkinen, Miss. Laina  female  26.0      0   \n",
       "3       Futrelle, Mrs. Jacques Heath (Lily May Peel)  female  35.0      1   \n",
       "4                           Allen, Mr. William Henry    male  35.0      0   \n",
       "\n",
       "   Parch            Ticket     Fare Cabin Embarked Title  \n",
       "0      0         A/5 21171   7.2500   NaN        S    Mr  \n",
       "1      0          PC 17599  71.2833   C85        C   Mrs  \n",
       "2      0  STON/O2. 3101282   7.9250   NaN        S  Miss  \n",
       "3      0            113803  53.1000  C123        S   Mrs  \n",
       "4      0            373450   8.0500   NaN        S    Mr  "
      ]
     },
     "execution_count": 3,
     "metadata": {},
     "output_type": "execute_result"
    }
   ],
   "source": [
    "data = pd.read_csv('https://raw.githubusercontent.com/eduardofc/data/main/titanic-2.csv')\n",
    "\n",
    "print(f'Número de filas: {data.shape[0]}, Número de columnas:{data.shape[1]}')\n",
    "data.head()"
   ]
  },
  {
   "cell_type": "markdown",
   "metadata": {
    "deletable": false,
    "editable": false,
    "nbgrader": {
     "cell_type": "markdown",
     "checksum": "5af5a52b96b7bb10c74e8710b79a46fd",
     "grade": false,
     "grade_id": "cell-64175d2b3447c676",
     "locked": true,
     "schema_version": 3,
     "solution": false,
     "task": false
    }
   },
   "source": [
    "Creamos una columna adicional llamada _hasCabin_ que toma 0 si la columna _Cabin_ es nula y 1 si no lo es. Eliminamos _PassengerId_, _Name_, _Cabin_ y _Ticket_."
   ]
  },
  {
   "cell_type": "code",
   "execution_count": 4,
   "metadata": {
    "deletable": false,
    "nbgrader": {
     "cell_type": "code",
     "checksum": "cf473b45a6ba90c6a4348c7fcc55bc99",
     "grade": false,
     "grade_id": "cell-c7ef6992fce2559c",
     "locked": false,
     "schema_version": 3,
     "solution": true,
     "task": false
    }
   },
   "outputs": [],
   "source": [
    "# Solo los datos NaN serán 0 (ningún valor de Cabin tiene 0 al principio)\n",
    "data['Cabin'] = data.Cabin.fillna(0)\n",
    "\n",
    "# Crea una columna hasCabin donde los datos Cabin que existían \n",
    "# originalmente son 1 y los que faltaban 0\n",
    "data['hasCabin'] = data.Cabin.apply(lambda x: 1 if x!=0 else 0)\n",
    "\n",
    "# Borra las columnas que se pide\n",
    "data.drop(columns=['PassengerId','Name','Cabin','Ticket'], inplace=True)"
   ]
  },
  {
   "cell_type": "code",
   "execution_count": 5,
   "metadata": {
    "deletable": false,
    "editable": false,
    "nbgrader": {
     "cell_type": "code",
     "checksum": "874c28fdda82e95d027a626bdab6ff0f",
     "grade": true,
     "grade_id": "cell-89f26803095da375",
     "locked": true,
     "points": 1,
     "schema_version": 3,
     "solution": false,
     "task": false
    }
   },
   "outputs": [
    {
     "data": {
      "text/html": [
       "<div>\n",
       "<style scoped>\n",
       "    .dataframe tbody tr th:only-of-type {\n",
       "        vertical-align: middle;\n",
       "    }\n",
       "\n",
       "    .dataframe tbody tr th {\n",
       "        vertical-align: top;\n",
       "    }\n",
       "\n",
       "    .dataframe thead th {\n",
       "        text-align: right;\n",
       "    }\n",
       "</style>\n",
       "<table border=\"1\" class=\"dataframe\">\n",
       "  <thead>\n",
       "    <tr style=\"text-align: right;\">\n",
       "      <th></th>\n",
       "      <th>Survived</th>\n",
       "      <th>Pclass</th>\n",
       "      <th>Sex</th>\n",
       "      <th>Age</th>\n",
       "      <th>SibSp</th>\n",
       "      <th>Parch</th>\n",
       "      <th>Fare</th>\n",
       "      <th>Embarked</th>\n",
       "      <th>Title</th>\n",
       "      <th>hasCabin</th>\n",
       "    </tr>\n",
       "  </thead>\n",
       "  <tbody>\n",
       "    <tr>\n",
       "      <th>0</th>\n",
       "      <td>0</td>\n",
       "      <td>3</td>\n",
       "      <td>male</td>\n",
       "      <td>22.0</td>\n",
       "      <td>1</td>\n",
       "      <td>0</td>\n",
       "      <td>7.2500</td>\n",
       "      <td>S</td>\n",
       "      <td>Mr</td>\n",
       "      <td>0</td>\n",
       "    </tr>\n",
       "    <tr>\n",
       "      <th>1</th>\n",
       "      <td>1</td>\n",
       "      <td>1</td>\n",
       "      <td>female</td>\n",
       "      <td>38.0</td>\n",
       "      <td>1</td>\n",
       "      <td>0</td>\n",
       "      <td>71.2833</td>\n",
       "      <td>C</td>\n",
       "      <td>Mrs</td>\n",
       "      <td>1</td>\n",
       "    </tr>\n",
       "    <tr>\n",
       "      <th>2</th>\n",
       "      <td>1</td>\n",
       "      <td>3</td>\n",
       "      <td>female</td>\n",
       "      <td>26.0</td>\n",
       "      <td>0</td>\n",
       "      <td>0</td>\n",
       "      <td>7.9250</td>\n",
       "      <td>S</td>\n",
       "      <td>Miss</td>\n",
       "      <td>0</td>\n",
       "    </tr>\n",
       "    <tr>\n",
       "      <th>3</th>\n",
       "      <td>1</td>\n",
       "      <td>1</td>\n",
       "      <td>female</td>\n",
       "      <td>35.0</td>\n",
       "      <td>1</td>\n",
       "      <td>0</td>\n",
       "      <td>53.1000</td>\n",
       "      <td>S</td>\n",
       "      <td>Mrs</td>\n",
       "      <td>1</td>\n",
       "    </tr>\n",
       "    <tr>\n",
       "      <th>4</th>\n",
       "      <td>0</td>\n",
       "      <td>3</td>\n",
       "      <td>male</td>\n",
       "      <td>35.0</td>\n",
       "      <td>0</td>\n",
       "      <td>0</td>\n",
       "      <td>8.0500</td>\n",
       "      <td>S</td>\n",
       "      <td>Mr</td>\n",
       "      <td>0</td>\n",
       "    </tr>\n",
       "  </tbody>\n",
       "</table>\n",
       "</div>"
      ],
      "text/plain": [
       "   Survived  Pclass     Sex   Age  SibSp  Parch     Fare Embarked Title  \\\n",
       "0         0       3    male  22.0      1      0   7.2500        S    Mr   \n",
       "1         1       1  female  38.0      1      0  71.2833        C   Mrs   \n",
       "2         1       3  female  26.0      0      0   7.9250        S  Miss   \n",
       "3         1       1  female  35.0      1      0  53.1000        S   Mrs   \n",
       "4         0       3    male  35.0      0      0   8.0500        S    Mr   \n",
       "\n",
       "   hasCabin  \n",
       "0         0  \n",
       "1         1  \n",
       "2         0  \n",
       "3         1  \n",
       "4         0  "
      ]
     },
     "execution_count": 5,
     "metadata": {},
     "output_type": "execute_result"
    }
   ],
   "source": [
    "key_cols = ['Survived', 'Pclass', 'Sex', 'Age', 'SibSp', 'Parch', 'Fare', 'Embarked', 'Title', 'hasCabin']\n",
    "\n",
    "assert sum([x in key_cols for x in data.columns]) == 10\n",
    "assert len(data.columns) == 10\n",
    "assert (data.groupby('hasCabin').size()[0], data.groupby('hasCabin').size()[1]) == (687, 204)\n",
    "\n",
    "data.head()"
   ]
  },
  {
   "cell_type": "markdown",
   "metadata": {
    "deletable": false,
    "editable": false,
    "nbgrader": {
     "cell_type": "markdown",
     "checksum": "5a42893402b97d92bc1abeabe9405225",
     "grade": false,
     "grade_id": "cell-1378965791cbb7cf",
     "locked": true,
     "schema_version": 3,
     "solution": false,
     "task": false
    }
   },
   "source": [
    "En esta celda modificamos las variables _Title_, _Parch_ y _SibSp_, donde _Title_ tome solo los valores _Mr_, _Mrs_, _Miss_ y _Otros_; y _Parch_ y _SibSp_ toman solo los valores 0, 1 o 2 (donde 2 incluye 2 o más)."
   ]
  },
  {
   "cell_type": "code",
   "execution_count": 6,
   "metadata": {
    "deletable": false,
    "nbgrader": {
     "cell_type": "code",
     "checksum": "ed993d7818a7809529d222f0234d4a27",
     "grade": false,
     "grade_id": "cell-7a1f5e18419802f8",
     "locked": false,
     "schema_version": 3,
     "solution": true,
     "task": false
    }
   },
   "outputs": [],
   "source": [
    "# Hace las transformaciones para Title\n",
    "data['Title'] = data.Title.apply(lambda x: 'Otros' if x not in ['Mr','Mrs','Miss'] else x)\n",
    "\n",
    "# Hace las transformaciones para Parch y SibSp\n",
    "data['Parch'] = data.Parch.apply(lambda x: 2 if x >= 2 else x)\n",
    "data['SibSp'] = data.SibSp.apply(lambda x: 2 if x >= 2 else x)"
   ]
  },
  {
   "cell_type": "markdown",
   "metadata": {
    "deletable": false,
    "editable": false,
    "nbgrader": {
     "cell_type": "markdown",
     "checksum": "db62c1399c34f7d578914b03cfd6adb9",
     "grade": false,
     "grade_id": "cell-66228a45dac7c839",
     "locked": true,
     "schema_version": 3,
     "solution": false,
     "task": false
    }
   },
   "source": [
    "Celda de control:"
   ]
  },
  {
   "cell_type": "code",
   "execution_count": 7,
   "metadata": {
    "deletable": false,
    "editable": false,
    "nbgrader": {
     "cell_type": "code",
     "checksum": "197c6c751c9c5976dff7056cb1651249",
     "grade": true,
     "grade_id": "cell-ad984945ee897e83",
     "locked": true,
     "points": 1,
     "schema_version": 3,
     "solution": false,
     "task": false
    }
   },
   "outputs": [],
   "source": [
    "assert (data.groupby('SibSp').size()[0], data.groupby('SibSp').size()[1], data.groupby('SibSp').size()[2]) == (608, 209, 74)\n",
    "assert (data.groupby('Parch').size()[0], data.groupby('Parch').size()[1], data.groupby('Parch').size()[2]) == (678, 118, 95)\n",
    "assert (data.groupby('Title').size()['Mr'], data.groupby('Title').size()['Mrs'], data.groupby('Title').size()['Miss'], data.groupby('Title').size()['Otros']) == (517, 125, 182, 67)\n",
    "assert len(data) == 891"
   ]
  },
  {
   "cell_type": "markdown",
   "metadata": {
    "deletable": false,
    "editable": false,
    "nbgrader": {
     "cell_type": "markdown",
     "checksum": "4d8e0e77a49fc04aa86762a362f1cea5",
     "grade": false,
     "grade_id": "cell-daa1c6bb3399fa49",
     "locked": true,
     "schema_version": 3,
     "solution": false,
     "task": false
    }
   },
   "source": [
    "Eliminamos los dos registros cuyo valor _Embarked_ es nulo. Además eliminamos duplicados."
   ]
  },
  {
   "cell_type": "code",
   "execution_count": 8,
   "metadata": {
    "deletable": false,
    "nbgrader": {
     "cell_type": "code",
     "checksum": "0be98221f6c29b3d514d8a42924dfe0d",
     "grade": false,
     "grade_id": "cell-3df5034772208dec",
     "locked": false,
     "schema_version": 3,
     "solution": true,
     "task": false
    }
   },
   "outputs": [],
   "source": [
    "data.dropna(axis=0, subset=['Embarked'], inplace=True)\n",
    "data.drop_duplicates(inplace=True)"
   ]
  },
  {
   "cell_type": "markdown",
   "metadata": {
    "deletable": false,
    "editable": false,
    "nbgrader": {
     "cell_type": "markdown",
     "checksum": "985d1ec7c07da52e2b969862e1d32831",
     "grade": false,
     "grade_id": "cell-67edaeab39eac8a1",
     "locked": true,
     "schema_version": 3,
     "solution": false,
     "task": false
    }
   },
   "source": [
    "Celda de control:"
   ]
  },
  {
   "cell_type": "code",
   "execution_count": 9,
   "metadata": {
    "deletable": false,
    "editable": false,
    "nbgrader": {
     "cell_type": "code",
     "checksum": "b4b212311aeccd6accef1cf611ee19ba",
     "grade": true,
     "grade_id": "cell-83c833f68911e3ee",
     "locked": true,
     "points": 1,
     "schema_version": 3,
     "solution": false,
     "task": false
    }
   },
   "outputs": [],
   "source": [
    "assert len(data) == 787\n",
    "assert (data.groupby('Embarked').size()['C'], data.groupby('Embarked').size()['S'], data.groupby('Embarked').size()['Q']) == (155, 572, 60)\n",
    "assert data.Age.isnull().sum() == 109\n",
    "assert data.duplicated().sum() == 0"
   ]
  },
  {
   "cell_type": "markdown",
   "metadata": {
    "deletable": false,
    "editable": false,
    "nbgrader": {
     "cell_type": "markdown",
     "checksum": "af43d2a4433f8ccf2ee22c0e94fc90d6",
     "grade": false,
     "grade_id": "cell-69883fa172bc565e",
     "locked": true,
     "schema_version": 3,
     "solution": false,
     "task": false
    }
   },
   "source": [
    "Creamos una variable llamada *col_transformer* un ColumnTransformer que lleva en orden:\n",
    "- Un KNN Imputer de 5 vecinos con métrica *nan_euclidean* y pesos uniformes, para _Pclass_, _Age_, _SibSp_, _Parch_, _Fare_.\n",
    "- Un PowerTransformer _yeo-johnson_ para _Fare_.\n",
    "- Un OneHotEncoder para las variables _Sex_ (con la opción *drop=if_binary*), _Embarked_ (con la opción *drop=first*),  _Title_ y _Parch_ (sin opciones especiales).\n",
    "\n",
    "El ColumnTransfomer tiene una opción llamada _reminder_ que asignaremos valor _drop_. Aunque lo normal en la mayoría de los casos es utilizar la opción _passthrough_ en este caso creo que _drop_ es mejor \n",
    "\n",
    "_Nota_: Para que la celda de control no falle, es importante poner en orden tanto los transformadores como las variables."
   ]
  },
  {
   "cell_type": "code",
   "execution_count": 10,
   "metadata": {
    "deletable": false,
    "nbgrader": {
     "cell_type": "code",
     "checksum": "ca56df2a1c18a9abd6a36e20e9710789",
     "grade": false,
     "grade_id": "cell-8018d6ae07d18a73",
     "locked": false,
     "schema_version": 3,
     "solution": true,
     "task": false
    }
   },
   "outputs": [],
   "source": [
    "# Los steps individuales están en el orden en que se mencionan en el enunciado\n",
    "col_transformer = ColumnTransformer([\n",
    "    ('KNN', KNNImputer(n_neighbors=5, metric='nan_euclidean', weights='uniform'), ['Pclass', 'Age', 'SibSp' ,'Parch', 'Fare']),\n",
    "    ('PowerTransform', PowerTransformer(method='yeo-johnson'), ['Fare']),\n",
    "    ('ohe1', OneHotEncoder(drop='if_binary'), ['Sex']),\n",
    "    ('ohe2', OneHotEncoder(drop='first'), ['Embarked']),\n",
    "    ('ohe3', OneHotEncoder(), ['Title', 'Parch'])\n",
    "], remainder='drop')"
   ]
  },
  {
   "cell_type": "markdown",
   "metadata": {
    "deletable": false,
    "editable": false,
    "nbgrader": {
     "cell_type": "markdown",
     "checksum": "b5c49fce8ff28402515f9f6dd1df4dcc",
     "grade": false,
     "grade_id": "cell-276717f5197092b3",
     "locked": true,
     "schema_version": 3,
     "solution": false,
     "task": false
    }
   },
   "source": [
    "Celda de control:"
   ]
  },
  {
   "cell_type": "code",
   "execution_count": 11,
   "metadata": {
    "deletable": false,
    "editable": false,
    "nbgrader": {
     "cell_type": "code",
     "checksum": "284501cf79cc5e46f293611387377be8",
     "grade": true,
     "grade_id": "cell-422aa90b42ccb4ed",
     "locked": true,
     "points": 2,
     "schema_version": 3,
     "solution": false,
     "task": false
    }
   },
   "outputs": [],
   "source": [
    "ctransformed = col_transformer.fit_transform(data)\n",
    "\n",
    "assert ctransformed.shape == (787, 16)\n",
    "assert sum(np.round(ctransformed[1],2) == [1.,38.,1.,0.,71.28,1.27,0.,0.,0.,0.,0.,1.,0.,1.,0.,0.]) == 16\n",
    "assert sum(np.round(ctransformed[100],2) == [3.,21.2,0.,0.,7.78,-0.9,1.,0.,1.,0.,1.,0.,0.,1.,0.,0.]) == 16"
   ]
  },
  {
   "cell_type": "markdown",
   "metadata": {
    "deletable": false,
    "editable": false,
    "nbgrader": {
     "cell_type": "markdown",
     "checksum": "4528bad3d0a8a459d15ad59cbd74791a",
     "grade": false,
     "grade_id": "cell-653324a03c4fcb19",
     "locked": true,
     "schema_version": 3,
     "solution": false,
     "task": false
    }
   },
   "source": [
    "## Parte 2: Selección de modelo\n",
    "\n",
    "En esta parte, evaluaremos diversos estimadores (algoritmos, transformadores+algoritmos) con el objeto de predecir la variable objetivo (_Survived_) y estudiar su comportamiento."
   ]
  },
  {
   "cell_type": "code",
   "execution_count": 12,
   "metadata": {
    "deletable": false,
    "editable": false,
    "nbgrader": {
     "cell_type": "code",
     "checksum": "11813200d0aaa14923cb84ea5e6fa053",
     "grade": false,
     "grade_id": "cell-045715a778788e85",
     "locked": true,
     "schema_version": 3,
     "solution": false,
     "task": false
    }
   },
   "outputs": [],
   "source": [
    "models = []\n",
    "models.append(('LR', LogisticRegression(random_state=seed)))\n",
    "models.append(('LDA', LinearDiscriminantAnalysis()))\n",
    "models.append(('DTC', DecisionTreeClassifier(random_state=seed)))\n",
    "models.append(('NB', GaussianNB()))\n",
    "models.append(('RFC', RandomForestClassifier(random_state=seed)))\n",
    "models.append(('SVM', SVC()))\n",
    "\n",
    "X = data[['Pclass', 'Sex', 'Age', 'SibSp', 'Parch', 'Fare', 'Embarked', 'Title', 'hasCabin']]\n",
    "y = data['Survived']\n",
    "\n",
    "def boxplots_algorithms(results, names):\n",
    "    \n",
    "    plt.figure(figsize=(8,8))\n",
    "    plt.boxplot(results)\n",
    "    plt.xticks(range(1,len(names)+1), names)\n",
    "    plt.show()"
   ]
  },
  {
   "cell_type": "markdown",
   "metadata": {
    "deletable": false,
    "editable": false,
    "nbgrader": {
     "cell_type": "markdown",
     "checksum": "18c55b9b2d95d27e558f233c0a449974",
     "grade": false,
     "grade_id": "cell-da757a721080db70",
     "locked": true,
     "schema_version": 3,
     "solution": false,
     "task": false
    }
   },
   "source": [
    "Ahora, realizaremos un bucle que calcule, para cada algoritmo de la variable _models_,\n",
    "\n",
    "- Un pipeline que realice:\n",
    "    1. El ColumnTransformer diseñado anteriormente\n",
    "    2. Un RobustScaler a continuación y, finalmente, \n",
    "    3. Evalue cada algoritmo \n",
    "\n",
    "- Una validación cruzada:\n",
    "    1. Tipo KFolds, con 10 _folders_ \n",
    "    2. Aleatorio con semilla _seed_ y,\n",
    "    3. _scoring='accuracy'_\n",
    "        \n",
    "En cada iteración del bucle, almacenamos el resultado de cada validación cruzada en una variable _results_ y los nombres de cada algoritmo en una variable _names_.\n",
    "\n",
    "Finalmente, usaremos la función *boxplots_algorithms* para dibujar los resultados."
   ]
  },
  {
   "cell_type": "code",
   "execution_count": 13,
   "metadata": {
    "deletable": false,
    "nbgrader": {
     "cell_type": "code",
     "checksum": "ca932c90272849b7f20413a3eb8daaad",
     "grade": false,
     "grade_id": "cell-bbe44d2f946216d0",
     "locked": false,
     "schema_version": 3,
     "solution": true,
     "task": false
    }
   },
   "outputs": [
    {
     "data": {
      "image/png": "[encoded data removed]",
      "text/plain": [
       "<Figure size 800x800 with 1 Axes>"
      ]
     },
     "metadata": {},
     "output_type": "display_data"
    }
   ],
   "source": [
    "results = []\n",
    "names = []\n",
    "\n",
    "for name, model in models:\n",
    "    # Define la pipeline con un modelo escogido de la lista en cada iteración\n",
    "    pl = Pipeline([\n",
    "        ('column_trans', col_transformer),\n",
    "        ('scaler', RobustScaler()),\n",
    "        ('model', model)\n",
    "        ])\n",
    "    \n",
    "    # Hace la validación cruzada\n",
    "    cv_technique = KFold(n_splits=10, shuffle=True, random_state=seed)\n",
    "    # Almacena el resultado de la iteración en result\n",
    "    result = cross_val_score(pl, X, y, cv=cv_technique)\n",
    "    \n",
    "    # Guarda el nombre del modelo y su resultado en names y results\n",
    "    names.append(name)\n",
    "    results.append(result)\n",
    "\n",
    "boxplots_algorithms(results, names)"
   ]
  },
  {
   "cell_type": "markdown",
   "metadata": {
    "deletable": false,
    "editable": false,
    "nbgrader": {
     "cell_type": "markdown",
     "checksum": "f71294d56432320ae606494de3a49628",
     "grade": false,
     "grade_id": "cell-8abed6972b8db6b0",
     "locked": true,
     "schema_version": 3,
     "solution": false,
     "task": false
    }
   },
   "source": [
    "Celda de control:"
   ]
  },
  {
   "cell_type": "code",
   "execution_count": 14,
   "metadata": {
    "deletable": false,
    "editable": false,
    "nbgrader": {
     "cell_type": "code",
     "checksum": "47d7602ebd6c400fea3f80932048d457",
     "grade": true,
     "grade_id": "cell-afd0a48240ce315a",
     "locked": true,
     "points": 2,
     "schema_version": 3,
     "solution": false,
     "task": false
    }
   },
   "outputs": [],
   "source": [
    "assert len(results) == len(models)\n",
    "assert [np.round(x[4],2) for x in results] == [0.8, 0.78, 0.73, 0.77, 0.71, 0.76]"
   ]
  },
  {
   "cell_type": "markdown",
   "metadata": {
    "deletable": false,
    "editable": false,
    "nbgrader": {
     "cell_type": "markdown",
     "checksum": "ec20908e3fed7b691c3c8569361f9da1",
     "grade": false,
     "grade_id": "cell-1e192822708b4ab4",
     "locked": true,
     "schema_version": 3,
     "solution": false,
     "task": false
    }
   },
   "source": [
    "## Parte 3: Tuneado del modelo\n",
    "\n",
    "En esta parte, elegiremos un modelo compuesto por transformaciones y un algoritmo seleccionado. En concreto, probaremos diferentes parametrizaciones del algoritmo para obtener la mejor métrica."
   ]
  },
  {
   "cell_type": "markdown",
   "metadata": {
    "deletable": false,
    "editable": false,
    "nbgrader": {
     "cell_type": "markdown",
     "checksum": "f42cf646c6023ddab8c2218d9d388b2e",
     "grade": false,
     "grade_id": "cell-e61d9923c51f1e32",
     "locked": true,
     "schema_version": 3,
     "solution": false,
     "task": false
    }
   },
   "source": [
    "Ahora, realizaremos un tuneado del _RandomForestClassifier_ con _GridSearchCV_ para estimar cuál es la mejor configuración paramétrica entre:\n",
    "\n",
    "- 10 y 20 estimadores,\n",
    "- maximo número de variables estimado con los algoritmos _auto_, _sqrt_ y _log2_, \n",
    "- máxima profundidad 4,5,6,7 u 8,\n",
    "- criterio para medir la calidad del _split_ entre _gini_ o _entropy_\n",
    "    \n",
    "El modelo final, entrenado con _GridSearchCV_ y las variables _(X, y)_, se almacenará en una variable llamada _grid_model_. \n",
    "\n",
    "El entrenamiento del modelo se hará con un _StratifiedKfolds_ de 10 folders aleatorio.\n",
    "\n",
    "Se utilizará el mismo *Pipeline* que en el apartado anterior, salvo que solo con el modelo de Random Forest.\n",
    "\n",
    "Nota: Aquí no hago ningún train test split. "
   ]
  },
  {
   "cell_type": "code",
   "execution_count": 15,
   "metadata": {
    "deletable": false,
    "nbgrader": {
     "cell_type": "code",
     "checksum": "f7606c141714e412cd0b268d019879f4",
     "grade": false,
     "grade_id": "cell-8a7139e9e4e2da21",
     "locked": false,
     "schema_version": 3,
     "solution": true,
     "task": false
    }
   },
   "outputs": [
    {
     "name": "stdout",
     "output_type": "stream",
     "text": [
      "0.80688088283025\n",
      "Pipeline(steps=[('column_trans',\n",
      "                 ColumnTransformer(transformers=[('KNN', KNNImputer(),\n",
      "                                                  ['Pclass', 'Age', 'SibSp',\n",
      "                                                   'Parch', 'Fare']),\n",
      "                                                 ('PowerTransform',\n",
      "                                                  PowerTransformer(),\n",
      "                                                  ['Fare']),\n",
      "                                                 ('ohe1',\n",
      "                                                  OneHotEncoder(drop='if_binary'),\n",
      "                                                  ['Sex']),\n",
      "                                                 ('ohe2',\n",
      "                                                  OneHotEncoder(drop='first'),\n",
      "                                                  ['Embarked']),\n",
      "                                                 ('ohe3', OneHotEncoder(),\n",
      "                                                  ['Title', 'Parch'])])),\n",
      "                ('scaler', RobustScaler()),\n",
      "                ('model',\n",
      "                 RandomForestClassifier(max_depth=6, n_estimators=10,\n",
      "                                        random_state=99))])\n"
     ]
    }
   ],
   "source": [
    "grid_model = None \n",
    "\n",
    "# YOUR CODE HERE\n",
    "pl = Pipeline([\n",
    "    ('column_trans', col_transformer),\n",
    "    ('scaler', RobustScaler()),\n",
    "    ('model', RandomForestClassifier(random_state=seed))\n",
    "    ])\n",
    "\n",
    "parametros = {\n",
    "    \"model__criterion\": ['gini', 'entropy'],\n",
    "    \"model__n_estimators\": [10,20],\n",
    "    \"model__max_depth\": [4,5,6,7,8],\n",
    "    \"model__max_features\": ['auto', 'sqrt', 'log2']\n",
    "}\n",
    "\n",
    "grid_model = GridSearchCV(pl, cv=StratifiedKFold(n_splits=10, shuffle=True, random_state=seed), scoring='accuracy', param_grid=parametros)\n",
    "grid_model.fit(X,y)\n",
    "\n",
    "print(grid_model.best_score_)\n",
    "print(grid_model.best_estimator_)"
   ]
  },
  {
   "cell_type": "markdown",
   "metadata": {
    "deletable": false,
    "editable": false,
    "nbgrader": {
     "cell_type": "markdown",
     "checksum": "99d17a01a3f20f3f7f9f01afc621c89a",
     "grade": false,
     "grade_id": "cell-e0a393b0fe6fc3c5",
     "locked": true,
     "schema_version": 3,
     "solution": false,
     "task": false
    }
   },
   "source": [
    "Celda de control:"
   ]
  },
  {
   "cell_type": "code",
   "execution_count": 16,
   "metadata": {
    "deletable": false,
    "editable": false,
    "nbgrader": {
     "cell_type": "code",
     "checksum": "e0ce591bad6780718e17a4063993c9a2",
     "grade": true,
     "grade_id": "cell-d402e8c22ad379b6",
     "locked": true,
     "points": 3,
     "schema_version": 3,
     "solution": false,
     "task": false
    }
   },
   "outputs": [],
   "source": [
    "assert np.round(grid_model.best_score_, 4) == 0.8069\n",
    "assert len(grid_model.best_estimator_.steps) == 3"
   ]
  },
  {
   "cell_type": "code",
   "execution_count": null,
   "metadata": {},
   "outputs": [],
   "source": []
  }
 ],
 "metadata": {
  "kernelspec": {
   "display_name": "Python 3 (ipykernel)",
   "language": "python",
   "name": "python3"
  },
  "language_info": {
   "codemirror_mode": {
    "name": "ipython",
    "version": 3
   },
   "file_extension": ".py",
   "mimetype": "text/x-python",
   "name": "python",
   "nbconvert_exporter": "python",
   "pygments_lexer": "ipython3",
   "version": "3.10.13"
  }
 },
 "nbformat": 4,
 "nbformat_minor": 4
}
